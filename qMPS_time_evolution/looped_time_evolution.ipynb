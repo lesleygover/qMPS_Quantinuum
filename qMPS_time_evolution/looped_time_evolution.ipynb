{
 "cells": [
  {
   "cell_type": "code",
   "execution_count": null,
   "id": "3827acaa-d5b7-4774-b973-9994ca8f9380",
   "metadata": {
    "tags": []
   },
   "outputs": [],
   "source": [
    "from qtuum.api_wrappers import QuantinuumAPI as QAPI\n",
    "import matplotlib.pyplot as plt\n",
    "import numpy as np\n",
    "\n",
    "from classical import expectation, overlap, param_to_tensor, linFit\n",
    "from Loschmidt import loschmidt_paper\n",
    "from optimisation import completeOptimise"
   ]
  },
  {
   "cell_type": "markdown",
   "id": "dd77da12-c65b-43e3-a450-f3f457a28b8d",
   "metadata": {},
   "source": [
    "### Generate exact Loschmidt echo"
   ]
  },
  {
   "cell_type": "code",
   "execution_count": 2,
   "id": "66a3ebd5-27ec-4873-9302-d80f8f38d2bd",
   "metadata": {
    "tags": []
   },
   "outputs": [],
   "source": [
    "g0, g1 = 1.5, 0.2\n",
    "max_time = 2\n",
    "ltimes = np.linspace(0.0, max_time, 800)\n",
    "correct_ls = [loschmidt_paper(t, g0, g1) for t in ltimes]"
   ]
  },
  {
   "cell_type": "markdown",
   "id": "5775479d-3cca-454e-bdd4-d0c26a331b34",
   "metadata": {},
   "source": [
    "### Transfer matrix (classical simulation) data"
   ]
  },
  {
   "cell_type": "code",
   "execution_count": 3,
   "id": "37423e2b-5d9c-40f6-b993-d86d4fd505f0",
   "metadata": {
    "tags": []
   },
   "outputs": [],
   "source": [
    "paramData = np.load('TMparams100000.npy')\n",
    "x0 = paramData[0]\n",
    "x1 = paramData[1]\n",
    "x2 = paramData[2]"
   ]
  },
  {
   "cell_type": "markdown",
   "id": "b3b9a239-ce07-4881-ad26-1d5eed5c0b41",
   "metadata": {},
   "source": [
    "#### Choose which machine to use and check its online\n"
   ]
  },
  {
   "cell_type": "code",
   "execution_count": 8,
   "id": "7cb57f56-7c34-4125-b414-115f0bbeea6d",
   "metadata": {
    "tags": []
   },
   "outputs": [],
   "source": [
    "machine = 'H1-1E' # emulator = 'H1-1E', actual device = 'H1-1' or 'H1-2'\n",
    "qapi = QAPI(machine) \n",
    "#print('Machine status:', qapi.machine, 'is', qapi.status()) # for checking emulator is online"
   ]
  },
  {
   "cell_type": "markdown",
   "id": "1dbd8a13-6773-41ba-a14b-80a4eef70aae",
   "metadata": {},
   "source": [
    "### Runnning multiple complete runs\n",
    "##### completeOptimise:\n",
    "*completeOptimise(machine,xInit,p0,p1)*\n",
    "Used to run the full time evolution once\n",
    "Just need to set the machine name, and the initial parameters x0,x1,x2\n",
    "\n",
    "##### Multiple runs\n",
    "Just set the number of times to repeat this in the range of the loop to do multiple runs of the full time evolution (currently set to 50)\n",
    "\n",
    "The graphs and final data from each run will be saved to final_data"
   ]
  },
  {
   "cell_type": "code",
   "execution_count": 9,
   "id": "a432b9c5-eb69-48d7-8215-199257d2d167",
   "metadata": {
    "tags": []
   },
   "outputs": [],
   "source": [
    "for runs in range(50):\n",
    "    completeOptimise(machine=machine,x0,x1,x2)"
   ]
  }
 ],
 "metadata": {
  "kernelspec": {
   "display_name": "Python 3 (ipykernel)",
   "language": "python",
   "name": "python3"
  },
  "language_info": {
   "codemirror_mode": {
    "name": "ipython",
    "version": 3
   },
   "file_extension": ".py",
   "mimetype": "text/x-python",
   "name": "python",
   "nbconvert_exporter": "python",
   "pygments_lexer": "ipython3",
   "version": "3.13.0"
  }
 },
 "nbformat": 4,
 "nbformat_minor": 5
}
